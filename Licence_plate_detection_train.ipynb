{
  "nbformat": 4,
  "nbformat_minor": 0,
  "metadata": {
    "colab": {
      "name": "Licence_plate_detection.ipynb",
      "provenance": [],
      "collapsed_sections": []
    },
    "kernelspec": {
      "name": "python3",
      "display_name": "Python 3"
    },
    "language_info": {
      "name": "python"
    },
    "accelerator": "GPU"
  },
  "cells": [
    {
      "cell_type": "code",
      "execution_count": null,
      "metadata": {
        "id": "DuXf1XB2l9CN",
        "colab": {
          "base_uri": "https://localhost:8080/"
        },
        "outputId": "04f1f783-ae79-4bfe-8c49-f0b151248a95"
      },
      "outputs": [
        {
          "output_type": "stream",
          "name": "stdout",
          "text": [
            "Wed May 18 06:47:28 2022       \n",
            "+-----------------------------------------------------------------------------+\n",
            "| NVIDIA-SMI 460.32.03    Driver Version: 460.32.03    CUDA Version: 11.2     |\n",
            "|-------------------------------+----------------------+----------------------+\n",
            "| GPU  Name        Persistence-M| Bus-Id        Disp.A | Volatile Uncorr. ECC |\n",
            "| Fan  Temp  Perf  Pwr:Usage/Cap|         Memory-Usage | GPU-Util  Compute M. |\n",
            "|                               |                      |               MIG M. |\n",
            "|===============================+======================+======================|\n",
            "|   0  Tesla K80           Off  | 00000000:00:04.0 Off |                    0 |\n",
            "| N/A   70C    P8    37W / 149W |      0MiB / 11441MiB |      0%      Default |\n",
            "|                               |                      |                  N/A |\n",
            "+-------------------------------+----------------------+----------------------+\n",
            "                                                                               \n",
            "+-----------------------------------------------------------------------------+\n",
            "| Processes:                                                                  |\n",
            "|  GPU   GI   CI        PID   Type   Process name                  GPU Memory |\n",
            "|        ID   ID                                                   Usage      |\n",
            "|=============================================================================|\n",
            "|  No running processes found                                                 |\n",
            "+-----------------------------------------------------------------------------+\n"
          ]
        }
      ],
      "source": [
        "!nvidia-smi"
      ]
    },
    {
      "cell_type": "code",
      "source": [
        "from google.colab import drive\n",
        "drive.mount('/content/drive')"
      ],
      "metadata": {
        "colab": {
          "base_uri": "https://localhost:8080/"
        },
        "id": "3wFWXgZ19qxn",
        "outputId": "f12d83fd-36c5-49d8-97e0-dcd392024a63"
      },
      "execution_count": null,
      "outputs": [
        {
          "output_type": "stream",
          "name": "stdout",
          "text": [
            "Mounted at /content/drive\n"
          ]
        }
      ]
    },
    {
      "cell_type": "code",
      "source": [
        "!ls '/content/drive/My Drive/licence_plate_model_Training'"
      ],
      "metadata": {
        "colab": {
          "base_uri": "https://localhost:8080/"
        },
        "id": "jZUaCJcX9rv6",
        "outputId": "efc072a6-564f-4be9-e867-4f472f745cf3"
      },
      "execution_count": null,
      "outputs": [
        {
          "output_type": "stream",
          "name": "stdout",
          "text": [
            "backup\t   chart_yolov3_custom.png  custom_data.zip  darknet\n",
            "chart.png  custom_data\t\t    custom_weight\n"
          ]
        }
      ]
    },
    {
      "cell_type": "code",
      "source": [
        "#!unzip '/content/drive/My Drive/licence_plate_model_Training/custom_data.zip' -d '/content/drive/My Drive/licence_plate_model_Training/'"
      ],
      "metadata": {
        "colab": {
          "base_uri": "https://localhost:8080/"
        },
        "id": "ycPMgfws-OHI",
        "outputId": "7b9088f1-1eda-4fca-b746-fe29d754d34e"
      },
      "execution_count": null,
      "outputs": [
        {
          "output_type": "stream",
          "name": "stdout",
          "text": [
            "Archive:  /content/drive/My Drive/licence_plate_model_Training/custom_data.zip\n",
            "  inflating: /content/drive/My Drive/licence_plate_model_Training/custom_data/1.jpeg  \n",
            "  inflating: /content/drive/My Drive/licence_plate_model_Training/custom_data/1.txt  \n",
            "  inflating: /content/drive/My Drive/licence_plate_model_Training/custom_data/10.jpeg  \n",
            "  inflating: /content/drive/My Drive/licence_plate_model_Training/custom_data/10.txt  \n",
            "  inflating: /content/drive/My Drive/licence_plate_model_Training/custom_data/100.jpeg  \n",
            "  inflating: /content/drive/My Drive/licence_plate_model_Training/custom_data/100.txt  \n",
            "  inflating: /content/drive/My Drive/licence_plate_model_Training/custom_data/101.jpeg  \n",
            "  inflating: /content/drive/My Drive/licence_plate_model_Training/custom_data/101.txt  \n",
            "  inflating: /content/drive/My Drive/licence_plate_model_Training/custom_data/102.jpeg  \n",
            "  inflating: /content/drive/My Drive/licence_plate_model_Training/custom_data/102.txt  \n",
            "  inflating: /content/drive/My Drive/licence_plate_model_Training/custom_data/103.jpeg  \n",
            "  inflating: /content/drive/My Drive/licence_plate_model_Training/custom_data/103.txt  \n",
            "  inflating: /content/drive/My Drive/licence_plate_model_Training/custom_data/104.jpeg  \n",
            "  inflating: /content/drive/My Drive/licence_plate_model_Training/custom_data/104.txt  \n",
            "  inflating: /content/drive/My Drive/licence_plate_model_Training/custom_data/105.jpeg  \n",
            "  inflating: /content/drive/My Drive/licence_plate_model_Training/custom_data/105.txt  \n",
            "  inflating: /content/drive/My Drive/licence_plate_model_Training/custom_data/106.jpeg  \n",
            "  inflating: /content/drive/My Drive/licence_plate_model_Training/custom_data/106.txt  \n",
            "  inflating: /content/drive/My Drive/licence_plate_model_Training/custom_data/107.jpeg  \n",
            "  inflating: /content/drive/My Drive/licence_plate_model_Training/custom_data/107.txt  \n",
            "  inflating: /content/drive/My Drive/licence_plate_model_Training/custom_data/108.jpeg  \n",
            "  inflating: /content/drive/My Drive/licence_plate_model_Training/custom_data/108.txt  \n",
            "  inflating: /content/drive/My Drive/licence_plate_model_Training/custom_data/109.jpeg  \n",
            "  inflating: /content/drive/My Drive/licence_plate_model_Training/custom_data/109.txt  \n",
            "  inflating: /content/drive/My Drive/licence_plate_model_Training/custom_data/11.jpeg  \n",
            "  inflating: /content/drive/My Drive/licence_plate_model_Training/custom_data/11.txt  \n",
            "  inflating: /content/drive/My Drive/licence_plate_model_Training/custom_data/110.jpeg  \n",
            "  inflating: /content/drive/My Drive/licence_plate_model_Training/custom_data/110.txt  \n",
            "  inflating: /content/drive/My Drive/licence_plate_model_Training/custom_data/111.jpeg  \n",
            "  inflating: /content/drive/My Drive/licence_plate_model_Training/custom_data/111.txt  \n",
            "  inflating: /content/drive/My Drive/licence_plate_model_Training/custom_data/112.jpeg  \n",
            "  inflating: /content/drive/My Drive/licence_plate_model_Training/custom_data/112.txt  \n",
            "  inflating: /content/drive/My Drive/licence_plate_model_Training/custom_data/113.jpeg  \n",
            "  inflating: /content/drive/My Drive/licence_plate_model_Training/custom_data/113.txt  \n",
            "  inflating: /content/drive/My Drive/licence_plate_model_Training/custom_data/114.jpeg  \n",
            "  inflating: /content/drive/My Drive/licence_plate_model_Training/custom_data/114.txt  \n",
            "  inflating: /content/drive/My Drive/licence_plate_model_Training/custom_data/115.jpeg  \n",
            "  inflating: /content/drive/My Drive/licence_plate_model_Training/custom_data/115.txt  \n",
            "  inflating: /content/drive/My Drive/licence_plate_model_Training/custom_data/116.jpeg  \n",
            "  inflating: /content/drive/My Drive/licence_plate_model_Training/custom_data/116.txt  \n",
            "  inflating: /content/drive/My Drive/licence_plate_model_Training/custom_data/117.jpeg  \n",
            "  inflating: /content/drive/My Drive/licence_plate_model_Training/custom_data/117.txt  \n",
            "  inflating: /content/drive/My Drive/licence_plate_model_Training/custom_data/118.jpeg  \n",
            "  inflating: /content/drive/My Drive/licence_plate_model_Training/custom_data/118.txt  \n",
            "  inflating: /content/drive/My Drive/licence_plate_model_Training/custom_data/119.jpeg  \n",
            "  inflating: /content/drive/My Drive/licence_plate_model_Training/custom_data/119.txt  \n",
            "  inflating: /content/drive/My Drive/licence_plate_model_Training/custom_data/12.jpeg  \n",
            "  inflating: /content/drive/My Drive/licence_plate_model_Training/custom_data/12.txt  \n",
            "  inflating: /content/drive/My Drive/licence_plate_model_Training/custom_data/120.jpeg  \n",
            "  inflating: /content/drive/My Drive/licence_plate_model_Training/custom_data/120.txt  \n",
            "  inflating: /content/drive/My Drive/licence_plate_model_Training/custom_data/121.jpeg  \n",
            "  inflating: /content/drive/My Drive/licence_plate_model_Training/custom_data/121.txt  \n",
            "  inflating: /content/drive/My Drive/licence_plate_model_Training/custom_data/122.jpeg  \n",
            "  inflating: /content/drive/My Drive/licence_plate_model_Training/custom_data/122.txt  \n",
            "  inflating: /content/drive/My Drive/licence_plate_model_Training/custom_data/123.jpeg  \n",
            "  inflating: /content/drive/My Drive/licence_plate_model_Training/custom_data/123.txt  \n",
            "  inflating: /content/drive/My Drive/licence_plate_model_Training/custom_data/124.jpeg  \n",
            "  inflating: /content/drive/My Drive/licence_plate_model_Training/custom_data/124.txt  \n",
            "  inflating: /content/drive/My Drive/licence_plate_model_Training/custom_data/125.jpeg  \n",
            "  inflating: /content/drive/My Drive/licence_plate_model_Training/custom_data/125.txt  \n",
            "  inflating: /content/drive/My Drive/licence_plate_model_Training/custom_data/126.jpeg  \n",
            "  inflating: /content/drive/My Drive/licence_plate_model_Training/custom_data/127.jpeg  \n",
            "  inflating: /content/drive/My Drive/licence_plate_model_Training/custom_data/127.txt  \n",
            "  inflating: /content/drive/My Drive/licence_plate_model_Training/custom_data/128.jpeg  \n",
            "  inflating: /content/drive/My Drive/licence_plate_model_Training/custom_data/128.txt  \n",
            "  inflating: /content/drive/My Drive/licence_plate_model_Training/custom_data/129.jpeg  \n",
            "  inflating: /content/drive/My Drive/licence_plate_model_Training/custom_data/129.txt  \n",
            "  inflating: /content/drive/My Drive/licence_plate_model_Training/custom_data/13.jpeg  \n",
            "  inflating: /content/drive/My Drive/licence_plate_model_Training/custom_data/13.txt  \n",
            "  inflating: /content/drive/My Drive/licence_plate_model_Training/custom_data/130.jpeg  \n",
            "  inflating: /content/drive/My Drive/licence_plate_model_Training/custom_data/130.txt  \n",
            "  inflating: /content/drive/My Drive/licence_plate_model_Training/custom_data/131.jpeg  \n",
            "  inflating: /content/drive/My Drive/licence_plate_model_Training/custom_data/131.txt  \n",
            "  inflating: /content/drive/My Drive/licence_plate_model_Training/custom_data/132.jpeg  \n",
            "  inflating: /content/drive/My Drive/licence_plate_model_Training/custom_data/132.txt  \n",
            "  inflating: /content/drive/My Drive/licence_plate_model_Training/custom_data/133.jpeg  \n",
            "  inflating: /content/drive/My Drive/licence_plate_model_Training/custom_data/133.txt  \n",
            "  inflating: /content/drive/My Drive/licence_plate_model_Training/custom_data/134.jpeg  \n",
            "  inflating: /content/drive/My Drive/licence_plate_model_Training/custom_data/134.txt  \n",
            "  inflating: /content/drive/My Drive/licence_plate_model_Training/custom_data/135.jpeg  \n",
            "  inflating: /content/drive/My Drive/licence_plate_model_Training/custom_data/135.txt  \n",
            "  inflating: /content/drive/My Drive/licence_plate_model_Training/custom_data/136.jpeg  \n",
            "  inflating: /content/drive/My Drive/licence_plate_model_Training/custom_data/136.txt  \n",
            "  inflating: /content/drive/My Drive/licence_plate_model_Training/custom_data/137.jpeg  \n",
            "  inflating: /content/drive/My Drive/licence_plate_model_Training/custom_data/137.txt  \n",
            "  inflating: /content/drive/My Drive/licence_plate_model_Training/custom_data/138.jpeg  \n",
            "  inflating: /content/drive/My Drive/licence_plate_model_Training/custom_data/138.txt  \n",
            "  inflating: /content/drive/My Drive/licence_plate_model_Training/custom_data/139.jpeg  \n",
            "  inflating: /content/drive/My Drive/licence_plate_model_Training/custom_data/139.txt  \n",
            "  inflating: /content/drive/My Drive/licence_plate_model_Training/custom_data/14.jpeg  \n",
            "  inflating: /content/drive/My Drive/licence_plate_model_Training/custom_data/14.txt  \n",
            "  inflating: /content/drive/My Drive/licence_plate_model_Training/custom_data/140.jpeg  \n",
            "  inflating: /content/drive/My Drive/licence_plate_model_Training/custom_data/140.txt  \n",
            "  inflating: /content/drive/My Drive/licence_plate_model_Training/custom_data/141.jpeg  \n",
            "  inflating: /content/drive/My Drive/licence_plate_model_Training/custom_data/141.txt  \n",
            "  inflating: /content/drive/My Drive/licence_plate_model_Training/custom_data/142.jpeg  \n",
            "  inflating: /content/drive/My Drive/licence_plate_model_Training/custom_data/142.txt  \n",
            "  inflating: /content/drive/My Drive/licence_plate_model_Training/custom_data/143.jpeg  \n",
            "  inflating: /content/drive/My Drive/licence_plate_model_Training/custom_data/143.txt  \n",
            "  inflating: /content/drive/My Drive/licence_plate_model_Training/custom_data/144.jpeg  \n",
            "  inflating: /content/drive/My Drive/licence_plate_model_Training/custom_data/144.txt  \n",
            "  inflating: /content/drive/My Drive/licence_plate_model_Training/custom_data/145.jpeg  \n",
            "  inflating: /content/drive/My Drive/licence_plate_model_Training/custom_data/145.txt  \n",
            "  inflating: /content/drive/My Drive/licence_plate_model_Training/custom_data/146.jpeg  \n",
            "  inflating: /content/drive/My Drive/licence_plate_model_Training/custom_data/146.txt  \n",
            "  inflating: /content/drive/My Drive/licence_plate_model_Training/custom_data/147.jpeg  \n",
            "  inflating: /content/drive/My Drive/licence_plate_model_Training/custom_data/147.txt  \n",
            "  inflating: /content/drive/My Drive/licence_plate_model_Training/custom_data/148.jpeg  \n",
            "  inflating: /content/drive/My Drive/licence_plate_model_Training/custom_data/148.txt  \n",
            "  inflating: /content/drive/My Drive/licence_plate_model_Training/custom_data/149.jpeg  \n",
            "  inflating: /content/drive/My Drive/licence_plate_model_Training/custom_data/149.txt  \n",
            "  inflating: /content/drive/My Drive/licence_plate_model_Training/custom_data/15.jpeg  \n",
            "  inflating: /content/drive/My Drive/licence_plate_model_Training/custom_data/15.txt  \n",
            "  inflating: /content/drive/My Drive/licence_plate_model_Training/custom_data/150.jpeg  \n",
            "  inflating: /content/drive/My Drive/licence_plate_model_Training/custom_data/150.txt  \n",
            "  inflating: /content/drive/My Drive/licence_plate_model_Training/custom_data/151.jpeg  \n",
            "  inflating: /content/drive/My Drive/licence_plate_model_Training/custom_data/151.txt  \n",
            "  inflating: /content/drive/My Drive/licence_plate_model_Training/custom_data/152.jpeg  \n",
            "  inflating: /content/drive/My Drive/licence_plate_model_Training/custom_data/152.txt  \n",
            "  inflating: /content/drive/My Drive/licence_plate_model_Training/custom_data/153.jpeg  \n",
            "  inflating: /content/drive/My Drive/licence_plate_model_Training/custom_data/153.txt  \n",
            "  inflating: /content/drive/My Drive/licence_plate_model_Training/custom_data/154.jpeg  \n",
            "  inflating: /content/drive/My Drive/licence_plate_model_Training/custom_data/154.txt  \n",
            "  inflating: /content/drive/My Drive/licence_plate_model_Training/custom_data/155.jpeg  \n",
            "  inflating: /content/drive/My Drive/licence_plate_model_Training/custom_data/155.txt  \n",
            "  inflating: /content/drive/My Drive/licence_plate_model_Training/custom_data/156.jpeg  \n",
            "  inflating: /content/drive/My Drive/licence_plate_model_Training/custom_data/156.txt  \n",
            "  inflating: /content/drive/My Drive/licence_plate_model_Training/custom_data/157.jpeg  \n",
            "  inflating: /content/drive/My Drive/licence_plate_model_Training/custom_data/157.txt  \n",
            "  inflating: /content/drive/My Drive/licence_plate_model_Training/custom_data/158.jpeg  \n",
            "  inflating: /content/drive/My Drive/licence_plate_model_Training/custom_data/158.txt  \n",
            "  inflating: /content/drive/My Drive/licence_plate_model_Training/custom_data/159.jpeg  \n",
            "  inflating: /content/drive/My Drive/licence_plate_model_Training/custom_data/159.txt  \n",
            "  inflating: /content/drive/My Drive/licence_plate_model_Training/custom_data/16.jpeg  \n",
            "  inflating: /content/drive/My Drive/licence_plate_model_Training/custom_data/16.txt  \n",
            "  inflating: /content/drive/My Drive/licence_plate_model_Training/custom_data/160.jpeg  \n",
            "  inflating: /content/drive/My Drive/licence_plate_model_Training/custom_data/160.txt  \n",
            "  inflating: /content/drive/My Drive/licence_plate_model_Training/custom_data/161.jpeg  \n",
            "  inflating: /content/drive/My Drive/licence_plate_model_Training/custom_data/161.txt  \n",
            "  inflating: /content/drive/My Drive/licence_plate_model_Training/custom_data/162.jpeg  \n",
            "  inflating: /content/drive/My Drive/licence_plate_model_Training/custom_data/162.txt  \n",
            "  inflating: /content/drive/My Drive/licence_plate_model_Training/custom_data/163.jpeg  \n",
            "  inflating: /content/drive/My Drive/licence_plate_model_Training/custom_data/163.txt  \n",
            "  inflating: /content/drive/My Drive/licence_plate_model_Training/custom_data/164.jpeg  \n",
            "  inflating: /content/drive/My Drive/licence_plate_model_Training/custom_data/164.txt  \n",
            "  inflating: /content/drive/My Drive/licence_plate_model_Training/custom_data/165.jpeg  \n",
            "  inflating: /content/drive/My Drive/licence_plate_model_Training/custom_data/165.txt  \n",
            "  inflating: /content/drive/My Drive/licence_plate_model_Training/custom_data/166.jpeg  \n",
            "  inflating: /content/drive/My Drive/licence_plate_model_Training/custom_data/166.txt  \n",
            "  inflating: /content/drive/My Drive/licence_plate_model_Training/custom_data/167.jpeg  \n",
            "  inflating: /content/drive/My Drive/licence_plate_model_Training/custom_data/167.txt  \n",
            "  inflating: /content/drive/My Drive/licence_plate_model_Training/custom_data/168.jpeg  \n",
            "  inflating: /content/drive/My Drive/licence_plate_model_Training/custom_data/168.txt  \n",
            "  inflating: /content/drive/My Drive/licence_plate_model_Training/custom_data/169.jpeg  \n",
            "  inflating: /content/drive/My Drive/licence_plate_model_Training/custom_data/169.txt  \n",
            "  inflating: /content/drive/My Drive/licence_plate_model_Training/custom_data/17.jpeg  \n",
            "  inflating: /content/drive/My Drive/licence_plate_model_Training/custom_data/17.txt  \n",
            "  inflating: /content/drive/My Drive/licence_plate_model_Training/custom_data/170.jpeg  \n",
            "  inflating: /content/drive/My Drive/licence_plate_model_Training/custom_data/170.txt  \n",
            "  inflating: /content/drive/My Drive/licence_plate_model_Training/custom_data/171.jpeg  \n",
            "  inflating: /content/drive/My Drive/licence_plate_model_Training/custom_data/171.txt  \n",
            "  inflating: /content/drive/My Drive/licence_plate_model_Training/custom_data/172.jpeg  \n",
            "  inflating: /content/drive/My Drive/licence_plate_model_Training/custom_data/172.txt  \n",
            "  inflating: /content/drive/My Drive/licence_plate_model_Training/custom_data/173.jpeg  \n",
            "  inflating: /content/drive/My Drive/licence_plate_model_Training/custom_data/173.txt  \n",
            "  inflating: /content/drive/My Drive/licence_plate_model_Training/custom_data/174.jpeg  \n",
            "  inflating: /content/drive/My Drive/licence_plate_model_Training/custom_data/174.txt  \n",
            "  inflating: /content/drive/My Drive/licence_plate_model_Training/custom_data/175.jpeg  \n",
            "  inflating: /content/drive/My Drive/licence_plate_model_Training/custom_data/175.txt  \n",
            "  inflating: /content/drive/My Drive/licence_plate_model_Training/custom_data/176.jpeg  \n",
            "  inflating: /content/drive/My Drive/licence_plate_model_Training/custom_data/176.txt  \n",
            "  inflating: /content/drive/My Drive/licence_plate_model_Training/custom_data/177.jpeg  \n",
            "  inflating: /content/drive/My Drive/licence_plate_model_Training/custom_data/177.txt  \n",
            "  inflating: /content/drive/My Drive/licence_plate_model_Training/custom_data/178.jpeg  \n",
            "  inflating: /content/drive/My Drive/licence_plate_model_Training/custom_data/178.txt  \n",
            "  inflating: /content/drive/My Drive/licence_plate_model_Training/custom_data/179.jpeg  \n",
            "  inflating: /content/drive/My Drive/licence_plate_model_Training/custom_data/179.txt  \n",
            "  inflating: /content/drive/My Drive/licence_plate_model_Training/custom_data/18.jpeg  \n",
            "  inflating: /content/drive/My Drive/licence_plate_model_Training/custom_data/18.txt  \n",
            "  inflating: /content/drive/My Drive/licence_plate_model_Training/custom_data/180.jpeg  \n",
            "  inflating: /content/drive/My Drive/licence_plate_model_Training/custom_data/180.txt  \n",
            "  inflating: /content/drive/My Drive/licence_plate_model_Training/custom_data/181.jpeg  \n",
            "  inflating: /content/drive/My Drive/licence_plate_model_Training/custom_data/181.txt  \n",
            "  inflating: /content/drive/My Drive/licence_plate_model_Training/custom_data/182.jpeg  \n",
            "  inflating: /content/drive/My Drive/licence_plate_model_Training/custom_data/182.txt  \n",
            "  inflating: /content/drive/My Drive/licence_plate_model_Training/custom_data/183.jpeg  \n",
            "  inflating: /content/drive/My Drive/licence_plate_model_Training/custom_data/183.txt  \n",
            "  inflating: /content/drive/My Drive/licence_plate_model_Training/custom_data/184.jpeg  \n",
            "  inflating: /content/drive/My Drive/licence_plate_model_Training/custom_data/184.txt  \n",
            "  inflating: /content/drive/My Drive/licence_plate_model_Training/custom_data/185.jpeg  \n",
            "  inflating: /content/drive/My Drive/licence_plate_model_Training/custom_data/185.txt  \n",
            "  inflating: /content/drive/My Drive/licence_plate_model_Training/custom_data/186.jpeg  \n",
            "  inflating: /content/drive/My Drive/licence_plate_model_Training/custom_data/186.txt  \n",
            "  inflating: /content/drive/My Drive/licence_plate_model_Training/custom_data/187.jpeg  \n",
            "  inflating: /content/drive/My Drive/licence_plate_model_Training/custom_data/187.txt  \n",
            "  inflating: /content/drive/My Drive/licence_plate_model_Training/custom_data/188.jpeg  \n",
            "  inflating: /content/drive/My Drive/licence_plate_model_Training/custom_data/188.txt  \n",
            "  inflating: /content/drive/My Drive/licence_plate_model_Training/custom_data/189.jpeg  \n",
            "  inflating: /content/drive/My Drive/licence_plate_model_Training/custom_data/189.txt  \n",
            "  inflating: /content/drive/My Drive/licence_plate_model_Training/custom_data/19.jpeg  \n",
            "  inflating: /content/drive/My Drive/licence_plate_model_Training/custom_data/19.txt  \n",
            "  inflating: /content/drive/My Drive/licence_plate_model_Training/custom_data/190.jpeg  \n",
            "  inflating: /content/drive/My Drive/licence_plate_model_Training/custom_data/190.txt  \n",
            "  inflating: /content/drive/My Drive/licence_plate_model_Training/custom_data/191.jpeg  \n",
            "  inflating: /content/drive/My Drive/licence_plate_model_Training/custom_data/191.txt  \n",
            "  inflating: /content/drive/My Drive/licence_plate_model_Training/custom_data/192.jpeg  \n",
            "  inflating: /content/drive/My Drive/licence_plate_model_Training/custom_data/192.txt  \n",
            "  inflating: /content/drive/My Drive/licence_plate_model_Training/custom_data/193.jpeg  \n",
            "  inflating: /content/drive/My Drive/licence_plate_model_Training/custom_data/193.txt  \n",
            "  inflating: /content/drive/My Drive/licence_plate_model_Training/custom_data/194.jpeg  \n",
            "  inflating: /content/drive/My Drive/licence_plate_model_Training/custom_data/194.txt  \n",
            "  inflating: /content/drive/My Drive/licence_plate_model_Training/custom_data/195.jpeg  \n",
            "  inflating: /content/drive/My Drive/licence_plate_model_Training/custom_data/195.txt  \n",
            "  inflating: /content/drive/My Drive/licence_plate_model_Training/custom_data/196.jpeg  \n",
            "  inflating: /content/drive/My Drive/licence_plate_model_Training/custom_data/196.txt  \n",
            "  inflating: /content/drive/My Drive/licence_plate_model_Training/custom_data/197.jpeg  \n",
            "  inflating: /content/drive/My Drive/licence_plate_model_Training/custom_data/197.txt  \n",
            "  inflating: /content/drive/My Drive/licence_plate_model_Training/custom_data/198.jpeg  \n",
            "  inflating: /content/drive/My Drive/licence_plate_model_Training/custom_data/198.txt  \n",
            "  inflating: /content/drive/My Drive/licence_plate_model_Training/custom_data/199.jpeg  \n",
            "  inflating: /content/drive/My Drive/licence_plate_model_Training/custom_data/199.txt  \n",
            "  inflating: /content/drive/My Drive/licence_plate_model_Training/custom_data/2.jpeg  \n",
            "  inflating: /content/drive/My Drive/licence_plate_model_Training/custom_data/2.txt  \n",
            "  inflating: /content/drive/My Drive/licence_plate_model_Training/custom_data/20.jpeg  \n",
            "  inflating: /content/drive/My Drive/licence_plate_model_Training/custom_data/20.txt  \n",
            "  inflating: /content/drive/My Drive/licence_plate_model_Training/custom_data/200.jpeg  \n",
            "  inflating: /content/drive/My Drive/licence_plate_model_Training/custom_data/200.txt  \n",
            "  inflating: /content/drive/My Drive/licence_plate_model_Training/custom_data/201.jpeg  \n",
            "  inflating: /content/drive/My Drive/licence_plate_model_Training/custom_data/201.txt  \n",
            "  inflating: /content/drive/My Drive/licence_plate_model_Training/custom_data/202.jpeg  \n",
            "  inflating: /content/drive/My Drive/licence_plate_model_Training/custom_data/202.txt  \n",
            "  inflating: /content/drive/My Drive/licence_plate_model_Training/custom_data/203.jpeg  \n",
            "  inflating: /content/drive/My Drive/licence_plate_model_Training/custom_data/203.txt  \n",
            "  inflating: /content/drive/My Drive/licence_plate_model_Training/custom_data/204.jpeg  \n",
            "  inflating: /content/drive/My Drive/licence_plate_model_Training/custom_data/204.txt  \n",
            "  inflating: /content/drive/My Drive/licence_plate_model_Training/custom_data/205.jpeg  \n",
            "  inflating: /content/drive/My Drive/licence_plate_model_Training/custom_data/205.txt  \n",
            "  inflating: /content/drive/My Drive/licence_plate_model_Training/custom_data/206.jpeg  \n",
            "  inflating: /content/drive/My Drive/licence_plate_model_Training/custom_data/206.txt  \n",
            "  inflating: /content/drive/My Drive/licence_plate_model_Training/custom_data/207.jpeg  \n",
            "  inflating: /content/drive/My Drive/licence_plate_model_Training/custom_data/207.txt  \n",
            "  inflating: /content/drive/My Drive/licence_plate_model_Training/custom_data/208.jpeg  \n",
            "  inflating: /content/drive/My Drive/licence_plate_model_Training/custom_data/208.txt  \n",
            "  inflating: /content/drive/My Drive/licence_plate_model_Training/custom_data/209.jpeg  \n",
            "  inflating: /content/drive/My Drive/licence_plate_model_Training/custom_data/209.txt  \n",
            "  inflating: /content/drive/My Drive/licence_plate_model_Training/custom_data/21.jpeg  \n",
            "  inflating: /content/drive/My Drive/licence_plate_model_Training/custom_data/21.txt  \n",
            "  inflating: /content/drive/My Drive/licence_plate_model_Training/custom_data/210.jpeg  \n",
            "  inflating: /content/drive/My Drive/licence_plate_model_Training/custom_data/210.txt  \n",
            "  inflating: /content/drive/My Drive/licence_plate_model_Training/custom_data/211.jpeg  \n",
            "  inflating: /content/drive/My Drive/licence_plate_model_Training/custom_data/211.txt  \n",
            "  inflating: /content/drive/My Drive/licence_plate_model_Training/custom_data/212.jpeg  \n",
            "  inflating: /content/drive/My Drive/licence_plate_model_Training/custom_data/212.txt  \n",
            "  inflating: /content/drive/My Drive/licence_plate_model_Training/custom_data/213.jpeg  \n",
            "  inflating: /content/drive/My Drive/licence_plate_model_Training/custom_data/213.txt  \n",
            "  inflating: /content/drive/My Drive/licence_plate_model_Training/custom_data/214.jpeg  \n",
            "  inflating: /content/drive/My Drive/licence_plate_model_Training/custom_data/214.txt  \n",
            "  inflating: /content/drive/My Drive/licence_plate_model_Training/custom_data/215.jpeg  \n",
            "  inflating: /content/drive/My Drive/licence_plate_model_Training/custom_data/215.txt  \n",
            "  inflating: /content/drive/My Drive/licence_plate_model_Training/custom_data/216.jpeg  \n",
            "  inflating: /content/drive/My Drive/licence_plate_model_Training/custom_data/216.txt  \n",
            "  inflating: /content/drive/My Drive/licence_plate_model_Training/custom_data/217.jpeg  \n",
            "  inflating: /content/drive/My Drive/licence_plate_model_Training/custom_data/217.txt  \n",
            "  inflating: /content/drive/My Drive/licence_plate_model_Training/custom_data/218.jpeg  \n",
            "  inflating: /content/drive/My Drive/licence_plate_model_Training/custom_data/218.txt  \n",
            "  inflating: /content/drive/My Drive/licence_plate_model_Training/custom_data/219.jpeg  \n",
            "  inflating: /content/drive/My Drive/licence_plate_model_Training/custom_data/219.txt  \n",
            "  inflating: /content/drive/My Drive/licence_plate_model_Training/custom_data/22.jpeg  \n",
            "  inflating: /content/drive/My Drive/licence_plate_model_Training/custom_data/22.txt  \n",
            "  inflating: /content/drive/My Drive/licence_plate_model_Training/custom_data/220.jpeg  \n",
            "  inflating: /content/drive/My Drive/licence_plate_model_Training/custom_data/220.txt  \n",
            "  inflating: /content/drive/My Drive/licence_plate_model_Training/custom_data/221.jpeg  \n",
            "  inflating: /content/drive/My Drive/licence_plate_model_Training/custom_data/221.txt  \n",
            "  inflating: /content/drive/My Drive/licence_plate_model_Training/custom_data/222.jpeg  \n",
            "  inflating: /content/drive/My Drive/licence_plate_model_Training/custom_data/222.txt  \n",
            "  inflating: /content/drive/My Drive/licence_plate_model_Training/custom_data/223.jpeg  \n",
            "  inflating: /content/drive/My Drive/licence_plate_model_Training/custom_data/223.txt  \n",
            "  inflating: /content/drive/My Drive/licence_plate_model_Training/custom_data/224.jpeg  \n",
            "  inflating: /content/drive/My Drive/licence_plate_model_Training/custom_data/224.txt  \n",
            "  inflating: /content/drive/My Drive/licence_plate_model_Training/custom_data/225.jpeg  \n",
            "  inflating: /content/drive/My Drive/licence_plate_model_Training/custom_data/225.txt  \n",
            "  inflating: /content/drive/My Drive/licence_plate_model_Training/custom_data/226.jpeg  \n",
            "  inflating: /content/drive/My Drive/licence_plate_model_Training/custom_data/226.txt  \n",
            "  inflating: /content/drive/My Drive/licence_plate_model_Training/custom_data/227.jpeg  \n",
            "  inflating: /content/drive/My Drive/licence_plate_model_Training/custom_data/227.txt  \n",
            "  inflating: /content/drive/My Drive/licence_plate_model_Training/custom_data/23.jpeg  \n",
            "  inflating: /content/drive/My Drive/licence_plate_model_Training/custom_data/23.txt  \n",
            "  inflating: /content/drive/My Drive/licence_plate_model_Training/custom_data/24.jpeg  \n",
            "  inflating: /content/drive/My Drive/licence_plate_model_Training/custom_data/24.txt  \n",
            "  inflating: /content/drive/My Drive/licence_plate_model_Training/custom_data/25.jpeg  \n",
            "  inflating: /content/drive/My Drive/licence_plate_model_Training/custom_data/25.txt  \n",
            "  inflating: /content/drive/My Drive/licence_plate_model_Training/custom_data/26.jpeg  \n",
            "  inflating: /content/drive/My Drive/licence_plate_model_Training/custom_data/26.txt  \n",
            "  inflating: /content/drive/My Drive/licence_plate_model_Training/custom_data/27.jpeg  \n",
            "  inflating: /content/drive/My Drive/licence_plate_model_Training/custom_data/27.txt  \n",
            "  inflating: /content/drive/My Drive/licence_plate_model_Training/custom_data/28.jpeg  \n",
            "  inflating: /content/drive/My Drive/licence_plate_model_Training/custom_data/28.txt  \n",
            "  inflating: /content/drive/My Drive/licence_plate_model_Training/custom_data/29.jpeg  \n",
            "  inflating: /content/drive/My Drive/licence_plate_model_Training/custom_data/29.txt  \n",
            "  inflating: /content/drive/My Drive/licence_plate_model_Training/custom_data/3.jpeg  \n",
            "  inflating: /content/drive/My Drive/licence_plate_model_Training/custom_data/3.txt  \n",
            "  inflating: /content/drive/My Drive/licence_plate_model_Training/custom_data/30.jpeg  \n",
            "  inflating: /content/drive/My Drive/licence_plate_model_Training/custom_data/30.txt  \n",
            "  inflating: /content/drive/My Drive/licence_plate_model_Training/custom_data/31.jpeg  \n",
            "  inflating: /content/drive/My Drive/licence_plate_model_Training/custom_data/31.txt  \n",
            "  inflating: /content/drive/My Drive/licence_plate_model_Training/custom_data/32.jpeg  \n",
            "  inflating: /content/drive/My Drive/licence_plate_model_Training/custom_data/32.txt  \n",
            "  inflating: /content/drive/My Drive/licence_plate_model_Training/custom_data/33.jpeg  \n",
            "  inflating: /content/drive/My Drive/licence_plate_model_Training/custom_data/33.txt  \n",
            "  inflating: /content/drive/My Drive/licence_plate_model_Training/custom_data/34.jpeg  \n",
            "  inflating: /content/drive/My Drive/licence_plate_model_Training/custom_data/34.txt  \n",
            "  inflating: /content/drive/My Drive/licence_plate_model_Training/custom_data/35.jpeg  \n",
            "  inflating: /content/drive/My Drive/licence_plate_model_Training/custom_data/35.txt  \n",
            "  inflating: /content/drive/My Drive/licence_plate_model_Training/custom_data/36.jpeg  \n",
            "  inflating: /content/drive/My Drive/licence_plate_model_Training/custom_data/36.txt  \n",
            "  inflating: /content/drive/My Drive/licence_plate_model_Training/custom_data/37.jpeg  \n",
            "  inflating: /content/drive/My Drive/licence_plate_model_Training/custom_data/37.txt  \n",
            "  inflating: /content/drive/My Drive/licence_plate_model_Training/custom_data/38.jpeg  \n",
            "  inflating: /content/drive/My Drive/licence_plate_model_Training/custom_data/38.txt  \n",
            "  inflating: /content/drive/My Drive/licence_plate_model_Training/custom_data/39.jpeg  \n",
            "  inflating: /content/drive/My Drive/licence_plate_model_Training/custom_data/39.txt  \n",
            "  inflating: /content/drive/My Drive/licence_plate_model_Training/custom_data/4.jpeg  \n",
            "  inflating: /content/drive/My Drive/licence_plate_model_Training/custom_data/4.txt  \n",
            "  inflating: /content/drive/My Drive/licence_plate_model_Training/custom_data/40.jpeg  \n",
            "  inflating: /content/drive/My Drive/licence_plate_model_Training/custom_data/40.txt  \n",
            "  inflating: /content/drive/My Drive/licence_plate_model_Training/custom_data/41.jpeg  \n",
            "  inflating: /content/drive/My Drive/licence_plate_model_Training/custom_data/41.txt  \n",
            "  inflating: /content/drive/My Drive/licence_plate_model_Training/custom_data/42.jpeg  \n",
            "  inflating: /content/drive/My Drive/licence_plate_model_Training/custom_data/42.txt  \n",
            "  inflating: /content/drive/My Drive/licence_plate_model_Training/custom_data/43.jpeg  \n",
            "  inflating: /content/drive/My Drive/licence_plate_model_Training/custom_data/43.txt  \n",
            "  inflating: /content/drive/My Drive/licence_plate_model_Training/custom_data/44.jpeg  \n",
            "  inflating: /content/drive/My Drive/licence_plate_model_Training/custom_data/44.txt  \n",
            "  inflating: /content/drive/My Drive/licence_plate_model_Training/custom_data/45.jpeg  \n",
            "  inflating: /content/drive/My Drive/licence_plate_model_Training/custom_data/45.txt  \n",
            "  inflating: /content/drive/My Drive/licence_plate_model_Training/custom_data/46.jpeg  \n",
            "  inflating: /content/drive/My Drive/licence_plate_model_Training/custom_data/46.txt  \n",
            "  inflating: /content/drive/My Drive/licence_plate_model_Training/custom_data/47.jpeg  \n",
            "  inflating: /content/drive/My Drive/licence_plate_model_Training/custom_data/47.txt  \n",
            "  inflating: /content/drive/My Drive/licence_plate_model_Training/custom_data/48.jpeg  \n",
            "  inflating: /content/drive/My Drive/licence_plate_model_Training/custom_data/48.txt  \n",
            "  inflating: /content/drive/My Drive/licence_plate_model_Training/custom_data/49.jpeg  \n",
            "  inflating: /content/drive/My Drive/licence_plate_model_Training/custom_data/49.txt  \n",
            "  inflating: /content/drive/My Drive/licence_plate_model_Training/custom_data/5.jpeg  \n",
            "  inflating: /content/drive/My Drive/licence_plate_model_Training/custom_data/5.txt  \n",
            "  inflating: /content/drive/My Drive/licence_plate_model_Training/custom_data/50.jpeg  \n",
            "  inflating: /content/drive/My Drive/licence_plate_model_Training/custom_data/50.txt  \n",
            "  inflating: /content/drive/My Drive/licence_plate_model_Training/custom_data/51.jpeg  \n",
            "  inflating: /content/drive/My Drive/licence_plate_model_Training/custom_data/51.txt  \n",
            "  inflating: /content/drive/My Drive/licence_plate_model_Training/custom_data/52.jpeg  \n",
            "  inflating: /content/drive/My Drive/licence_plate_model_Training/custom_data/52.txt  \n",
            "  inflating: /content/drive/My Drive/licence_plate_model_Training/custom_data/53.jpeg  \n",
            "  inflating: /content/drive/My Drive/licence_plate_model_Training/custom_data/53.txt  \n",
            "  inflating: /content/drive/My Drive/licence_plate_model_Training/custom_data/54.jpeg  \n",
            "  inflating: /content/drive/My Drive/licence_plate_model_Training/custom_data/54.txt  \n",
            "  inflating: /content/drive/My Drive/licence_plate_model_Training/custom_data/55.jpeg  \n",
            "  inflating: /content/drive/My Drive/licence_plate_model_Training/custom_data/55.txt  \n",
            "  inflating: /content/drive/My Drive/licence_plate_model_Training/custom_data/56.jpeg  \n",
            "  inflating: /content/drive/My Drive/licence_plate_model_Training/custom_data/56.txt  \n",
            "  inflating: /content/drive/My Drive/licence_plate_model_Training/custom_data/57.jpeg  \n",
            "  inflating: /content/drive/My Drive/licence_plate_model_Training/custom_data/57.txt  \n",
            "  inflating: /content/drive/My Drive/licence_plate_model_Training/custom_data/58.jpeg  \n",
            "  inflating: /content/drive/My Drive/licence_plate_model_Training/custom_data/58.txt  \n",
            "  inflating: /content/drive/My Drive/licence_plate_model_Training/custom_data/59.jpeg  \n",
            "  inflating: /content/drive/My Drive/licence_plate_model_Training/custom_data/59.txt  \n",
            "  inflating: /content/drive/My Drive/licence_plate_model_Training/custom_data/6.jpeg  \n",
            "  inflating: /content/drive/My Drive/licence_plate_model_Training/custom_data/6.txt  \n",
            "  inflating: /content/drive/My Drive/licence_plate_model_Training/custom_data/60.jpeg  \n",
            "  inflating: /content/drive/My Drive/licence_plate_model_Training/custom_data/60.txt  \n",
            "  inflating: /content/drive/My Drive/licence_plate_model_Training/custom_data/61.jpeg  \n",
            "  inflating: /content/drive/My Drive/licence_plate_model_Training/custom_data/61.txt  \n",
            "  inflating: /content/drive/My Drive/licence_plate_model_Training/custom_data/62.jpeg  \n",
            "  inflating: /content/drive/My Drive/licence_plate_model_Training/custom_data/62.txt  \n",
            "  inflating: /content/drive/My Drive/licence_plate_model_Training/custom_data/63.jpeg  \n",
            "  inflating: /content/drive/My Drive/licence_plate_model_Training/custom_data/63.txt  \n",
            "  inflating: /content/drive/My Drive/licence_plate_model_Training/custom_data/64.jpeg  \n",
            "  inflating: /content/drive/My Drive/licence_plate_model_Training/custom_data/64.txt  \n",
            "  inflating: /content/drive/My Drive/licence_plate_model_Training/custom_data/65.jpeg  \n",
            "  inflating: /content/drive/My Drive/licence_plate_model_Training/custom_data/65.txt  \n",
            "  inflating: /content/drive/My Drive/licence_plate_model_Training/custom_data/66.jpeg  \n",
            "  inflating: /content/drive/My Drive/licence_plate_model_Training/custom_data/66.txt  \n",
            "  inflating: /content/drive/My Drive/licence_plate_model_Training/custom_data/67.jpeg  \n",
            "  inflating: /content/drive/My Drive/licence_plate_model_Training/custom_data/67.txt  \n",
            "  inflating: /content/drive/My Drive/licence_plate_model_Training/custom_data/68.jpeg  \n",
            "  inflating: /content/drive/My Drive/licence_plate_model_Training/custom_data/68.txt  \n",
            "  inflating: /content/drive/My Drive/licence_plate_model_Training/custom_data/69.jpeg  \n",
            "  inflating: /content/drive/My Drive/licence_plate_model_Training/custom_data/69.txt  \n",
            "  inflating: /content/drive/My Drive/licence_plate_model_Training/custom_data/7.jpeg  \n",
            "  inflating: /content/drive/My Drive/licence_plate_model_Training/custom_data/7.txt  \n",
            "  inflating: /content/drive/My Drive/licence_plate_model_Training/custom_data/70.jpeg  \n",
            "  inflating: /content/drive/My Drive/licence_plate_model_Training/custom_data/70.txt  \n",
            "  inflating: /content/drive/My Drive/licence_plate_model_Training/custom_data/71.jpeg  \n",
            "  inflating: /content/drive/My Drive/licence_plate_model_Training/custom_data/71.txt  \n",
            "  inflating: /content/drive/My Drive/licence_plate_model_Training/custom_data/72.jpeg  \n",
            "  inflating: /content/drive/My Drive/licence_plate_model_Training/custom_data/72.txt  \n",
            "  inflating: /content/drive/My Drive/licence_plate_model_Training/custom_data/73.jpeg  \n",
            "  inflating: /content/drive/My Drive/licence_plate_model_Training/custom_data/73.txt  \n",
            "  inflating: /content/drive/My Drive/licence_plate_model_Training/custom_data/74.jpeg  \n",
            "  inflating: /content/drive/My Drive/licence_plate_model_Training/custom_data/74.txt  \n",
            "  inflating: /content/drive/My Drive/licence_plate_model_Training/custom_data/75.jpeg  \n",
            "  inflating: /content/drive/My Drive/licence_plate_model_Training/custom_data/75.txt  \n",
            "  inflating: /content/drive/My Drive/licence_plate_model_Training/custom_data/76.jpeg  \n",
            "  inflating: /content/drive/My Drive/licence_plate_model_Training/custom_data/76.txt  \n",
            "  inflating: /content/drive/My Drive/licence_plate_model_Training/custom_data/77.jpeg  \n",
            "  inflating: /content/drive/My Drive/licence_plate_model_Training/custom_data/77.txt  \n",
            "  inflating: /content/drive/My Drive/licence_plate_model_Training/custom_data/78.jpeg  \n",
            "  inflating: /content/drive/My Drive/licence_plate_model_Training/custom_data/78.txt  \n",
            "  inflating: /content/drive/My Drive/licence_plate_model_Training/custom_data/79.jpeg  \n",
            "  inflating: /content/drive/My Drive/licence_plate_model_Training/custom_data/79.txt  \n",
            "  inflating: /content/drive/My Drive/licence_plate_model_Training/custom_data/8.jpeg  \n",
            "  inflating: /content/drive/My Drive/licence_plate_model_Training/custom_data/8.txt  \n",
            "  inflating: /content/drive/My Drive/licence_plate_model_Training/custom_data/80.jpeg  \n",
            "  inflating: /content/drive/My Drive/licence_plate_model_Training/custom_data/80.txt  \n",
            "  inflating: /content/drive/My Drive/licence_plate_model_Training/custom_data/81.jpeg  \n",
            "  inflating: /content/drive/My Drive/licence_plate_model_Training/custom_data/81.txt  \n",
            "  inflating: /content/drive/My Drive/licence_plate_model_Training/custom_data/82.jpeg  \n",
            "  inflating: /content/drive/My Drive/licence_plate_model_Training/custom_data/82.txt  \n",
            "  inflating: /content/drive/My Drive/licence_plate_model_Training/custom_data/83.jpeg  \n",
            "  inflating: /content/drive/My Drive/licence_plate_model_Training/custom_data/83.txt  \n",
            "  inflating: /content/drive/My Drive/licence_plate_model_Training/custom_data/84.jpeg  \n",
            "  inflating: /content/drive/My Drive/licence_plate_model_Training/custom_data/84.txt  \n",
            "  inflating: /content/drive/My Drive/licence_plate_model_Training/custom_data/85.jpeg  \n",
            "  inflating: /content/drive/My Drive/licence_plate_model_Training/custom_data/85.txt  \n",
            "  inflating: /content/drive/My Drive/licence_plate_model_Training/custom_data/86.jpeg  \n",
            "  inflating: /content/drive/My Drive/licence_plate_model_Training/custom_data/86.txt  \n",
            "  inflating: /content/drive/My Drive/licence_plate_model_Training/custom_data/87.jpeg  \n",
            "  inflating: /content/drive/My Drive/licence_plate_model_Training/custom_data/87.txt  \n",
            "  inflating: /content/drive/My Drive/licence_plate_model_Training/custom_data/88.jpeg  \n",
            "  inflating: /content/drive/My Drive/licence_plate_model_Training/custom_data/88.txt  \n",
            "  inflating: /content/drive/My Drive/licence_plate_model_Training/custom_data/89.jpeg  \n",
            "  inflating: /content/drive/My Drive/licence_plate_model_Training/custom_data/89.txt  \n",
            "  inflating: /content/drive/My Drive/licence_plate_model_Training/custom_data/9.jpeg  \n",
            "  inflating: /content/drive/My Drive/licence_plate_model_Training/custom_data/9.txt  \n",
            "  inflating: /content/drive/My Drive/licence_plate_model_Training/custom_data/90.jpeg  \n",
            "  inflating: /content/drive/My Drive/licence_plate_model_Training/custom_data/90.txt  \n",
            "  inflating: /content/drive/My Drive/licence_plate_model_Training/custom_data/91.jpeg  \n",
            "  inflating: /content/drive/My Drive/licence_plate_model_Training/custom_data/91.txt  \n",
            "  inflating: /content/drive/My Drive/licence_plate_model_Training/custom_data/92.jpeg  \n",
            "  inflating: /content/drive/My Drive/licence_plate_model_Training/custom_data/92.txt  \n",
            "  inflating: /content/drive/My Drive/licence_plate_model_Training/custom_data/93.jpeg  \n",
            "  inflating: /content/drive/My Drive/licence_plate_model_Training/custom_data/93.txt  \n",
            "  inflating: /content/drive/My Drive/licence_plate_model_Training/custom_data/94.jpeg  \n",
            "  inflating: /content/drive/My Drive/licence_plate_model_Training/custom_data/94.txt  \n",
            "  inflating: /content/drive/My Drive/licence_plate_model_Training/custom_data/95.jpeg  \n",
            "  inflating: /content/drive/My Drive/licence_plate_model_Training/custom_data/95.txt  \n",
            "  inflating: /content/drive/My Drive/licence_plate_model_Training/custom_data/96.jpeg  \n",
            "  inflating: /content/drive/My Drive/licence_plate_model_Training/custom_data/96.txt  \n",
            "  inflating: /content/drive/My Drive/licence_plate_model_Training/custom_data/97.jpeg  \n",
            "  inflating: /content/drive/My Drive/licence_plate_model_Training/custom_data/97.txt  \n",
            "  inflating: /content/drive/My Drive/licence_plate_model_Training/custom_data/98.jpeg  \n",
            "  inflating: /content/drive/My Drive/licence_plate_model_Training/custom_data/98.txt  \n",
            "  inflating: /content/drive/My Drive/licence_plate_model_Training/custom_data/99.jpeg  \n",
            "  inflating: /content/drive/My Drive/licence_plate_model_Training/custom_data/99.txt  \n",
            " extracting: /content/drive/My Drive/licence_plate_model_Training/custom_data/classes.txt  \n"
          ]
        }
      ]
    },
    {
      "cell_type": "code",
      "source": [
        "!git clone 'https://github.com/AlexeyAB/darknet.git' '/content/drive/My Drive/licence_plate_model_Training/darknet'"
      ],
      "metadata": {
        "colab": {
          "base_uri": "https://localhost:8080/"
        },
        "id": "Nj41ggfq-vqT",
        "outputId": "fa80cb84-3ff7-496b-e2e3-44e7259a36c9"
      },
      "execution_count": null,
      "outputs": [
        {
          "output_type": "stream",
          "name": "stdout",
          "text": [
            "Cloning into '/content/drive/My Drive/licence_plate_model_Training/darknet'...\n",
            "remote: Enumerating objects: 15420, done.\u001b[K\n",
            "remote: Counting objects: 100% (7/7), done.\u001b[K\n",
            "remote: Compressing objects: 100% (6/6), done.\u001b[K\n",
            "remote: Total 15420 (delta 1), reused 6 (delta 1), pack-reused 15413\u001b[K\n",
            "Receiving objects: 100% (15420/15420), 14.05 MiB | 5.39 MiB/s, done.\n",
            "Resolving deltas: 100% (10358/10358), done.\n",
            "Checking out files: 100% (2050/2050), done.\n"
          ]
        }
      ]
    },
    {
      "cell_type": "code",
      "source": [
        "%cd /content/drive/My Drive/licence_plate_model_Training/darknet"
      ],
      "metadata": {
        "colab": {
          "base_uri": "https://localhost:8080/"
        },
        "id": "OCiRgLli_IyV",
        "outputId": "ad625e9b-a334-4814-9fbc-1bb0c097a112"
      },
      "execution_count": null,
      "outputs": [
        {
          "output_type": "stream",
          "name": "stdout",
          "text": [
            "/content/drive/My Drive/licence_plate_model_Training/darknet\n"
          ]
        }
      ]
    },
    {
      "cell_type": "code",
      "source": [
        "!ls"
      ],
      "metadata": {
        "colab": {
          "base_uri": "https://localhost:8080/"
        },
        "id": "3LT5-tZB_3IG",
        "outputId": "5225b462-82da-4acd-efae-13c154b5191e"
      },
      "execution_count": null,
      "outputs": [
        {
          "output_type": "stream",
          "name": "stdout",
          "text": [
            "3rdparty\tDarknetConfig.cmake.in\tjson_mjpeg_streams.sh  scripts\n",
            "backup\t\tdarknet_images.py\tLICENSE\t\t       src\n",
            "build\t\tdarknet.py\t\tMakefile\t       vcpkg.json\n",
            "build.ps1\tdarknet_video.py\tnet_cam_v3.sh\t       video_yolov3.sh\n",
            "cfg\t\tdata\t\t\tnet_cam_v4.sh\t       video_yolov4.sh\n",
            "cmake\t\timage_yolov3.sh\t\tobj\n",
            "CMakeLists.txt\timage_yolov4.sh\t\tREADME.md\n",
            "darknet\t\tinclude\t\t\tresults\n"
          ]
        }
      ]
    },
    {
      "cell_type": "code",
      "source": [
        "!make"
      ],
      "metadata": {
        "colab": {
          "base_uri": "https://localhost:8080/"
        },
        "id": "45_7zsSe_6by",
        "outputId": "ba5b96f1-baf2-48f0-d0bd-0dca628379e4"
      },
      "execution_count": null,
      "outputs": [
        {
          "output_type": "stream",
          "name": "stdout",
          "text": [
            "chmod +x *.sh\n"
          ]
        }
      ]
    },
    {
      "cell_type": "code",
      "source": [
        "%cd /content/drive/My Drive/licence_plate_model_Training"
      ],
      "metadata": {
        "colab": {
          "base_uri": "https://localhost:8080/"
        },
        "id": "FrYYVQwc_-ub",
        "outputId": "44287280-efdd-4f16-ec96-573bb55e9a3d"
      },
      "execution_count": null,
      "outputs": [
        {
          "output_type": "stream",
          "name": "stdout",
          "text": [
            "/content/drive/My Drive/licence_plate_model_Training\n"
          ]
        }
      ]
    },
    {
      "cell_type": "code",
      "source": [
        "!python custom_data/creating-files-data-and-name.py"
      ],
      "metadata": {
        "id": "chaI4hNHIzwX"
      },
      "execution_count": null,
      "outputs": []
    },
    {
      "cell_type": "code",
      "source": [
        "!python custom_data/creating-train-and-test-txt-files.py"
      ],
      "metadata": {
        "id": "cZDqCkoEJGE0"
      },
      "execution_count": null,
      "outputs": []
    },
    {
      "cell_type": "code",
      "source": [
        "!chmod +x ./darknet/darknet\n",
        "!darknet/darknet detector train custom_data/labelled_data.data darknet/cfg/yolov3_custom.cfg /content/drive/MyDrive/licence_plate_model_Training/backup/yolov3_custom_last.weights -dont_show"
      ],
      "metadata": {
        "id": "aATvX-S3JM26",
        "colab": {
          "base_uri": "https://localhost:8080/"
        },
        "outputId": "de4cb577-505f-43d3-d117-ac5328bd7fdc"
      },
      "execution_count": null,
      "outputs": [
        {
          "output_type": "stream",
          "name": "stdout",
          "text": [
            " CUDA-version: 11010 (11020), cuDNN: 7.6.5, GPU count: 1  \n",
            " OpenCV version: 3.2.0\n",
            "yolov3_custom\n",
            " 0 : compute_capability = 370, cudnn_half = 0, GPU: Tesla K80 \n",
            "net.optimized_memory = 0 \n",
            "mini_batch = 4, batch = 64, time_steps = 1, train = 1 \n",
            "   layer   filters  size/strd(dil)      input                output\n",
            "   0 Create CUDA-stream - 0 \n",
            " Create cudnn-handle 0 \n",
            "conv     32       3 x 3/ 1    416 x 416 x   3 ->  416 x 416 x  32 0.299 BF\n",
            "   1 conv     64       3 x 3/ 2    416 x 416 x  32 ->  208 x 208 x  64 1.595 BF\n",
            "   2 conv     32       1 x 1/ 1    208 x 208 x  64 ->  208 x 208 x  32 0.177 BF\n",
            "   3 conv     64       3 x 3/ 1    208 x 208 x  32 ->  208 x 208 x  64 1.595 BF\n",
            "   4 Shortcut Layer: 1,  wt = 0, wn = 0, outputs: 208 x 208 x  64 0.003 BF\n",
            "   5 conv    128       3 x 3/ 2    208 x 208 x  64 ->  104 x 104 x 128 1.595 BF\n",
            "   6 conv     64       1 x 1/ 1    104 x 104 x 128 ->  104 x 104 x  64 0.177 BF\n",
            "   7 conv    128       3 x 3/ 1    104 x 104 x  64 ->  104 x 104 x 128 1.595 BF\n",
            "   8 Shortcut Layer: 5,  wt = 0, wn = 0, outputs: 104 x 104 x 128 0.001 BF\n",
            "   9 conv     64       1 x 1/ 1    104 x 104 x 128 ->  104 x 104 x  64 0.177 BF\n",
            "  10 ^C\n"
          ]
        }
      ]
    },
    {
      "cell_type": "code",
      "source": [
        "!darknet//darknet detector map custom_data/labelled_data.data darknet/cfg/yolov3_custom.cfg backup/yolov3_custom_2000.weights"
      ],
      "metadata": {
        "colab": {
          "base_uri": "https://localhost:8080/"
        },
        "id": "ks0UCm64GQ0A",
        "outputId": "0365a17d-d5ed-49b3-f82e-1c3eb7726260"
      },
      "execution_count": null,
      "outputs": [
        {
          "output_type": "stream",
          "name": "stdout",
          "text": [
            " CUDA-version: 11010 (11020), cuDNN: 7.6.5, GPU count: 1  \n",
            " OpenCV version: 3.2.0\n",
            " 0 : compute_capability = 370, cudnn_half = 0, GPU: Tesla K80 \n",
            "net.optimized_memory = 0 \n",
            "mini_batch = 1, batch = 16, time_steps = 1, train = 0 \n",
            "   layer   filters  size/strd(dil)      input                output\n",
            "   0 Create CUDA-stream - 0 \n"
          ]
        }
      ]
    },
    {
      "cell_type": "code",
      "source": [
        ""
      ],
      "metadata": {
        "colab": {
          "base_uri": "https://localhost:8080/",
          "height": 36
        },
        "id": "zxUWKcps8EDO",
        "outputId": "27387e34-444b-4586-d9c6-52ef6fd20a98"
      },
      "execution_count": null,
      "outputs": [
        {
          "output_type": "execute_result",
          "data": {
            "text/plain": [
              "'/content/drive/MyDrive/licence_plate_model_Training'"
            ],
            "application/vnd.google.colaboratory.intrinsic+json": {
              "type": "string"
            }
          },
          "metadata": {},
          "execution_count": 15
        }
      ]
    },
    {
      "cell_type": "code",
      "source": [
        ""
      ],
      "metadata": {
        "id": "-4ZNiOvpBGFP"
      },
      "execution_count": null,
      "outputs": []
    }
  ]
}